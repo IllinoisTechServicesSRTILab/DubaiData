{
 "cells": [
  {
   "cell_type": "code",
   "execution_count": 2,
   "metadata": {},
   "outputs": [],
   "source": [
    "import csv\n",
    "import random\n",
    "import pandas as pd\n",
    "import numpy as np\n",
    "from sklearn.model_selection import train_test_split"
   ]
  },
  {
   "cell_type": "code",
   "execution_count": 22,
   "metadata": {},
   "outputs": [],
   "source": [
    "twdf = pd.read_csv(\"dubai-tweets.csv\", encoding = 'latin-1')\n",
    "poldf = pd.read_csv(\"dubai-politics-binary.csv\")\n",
    "reldf = pd.read_csv(\"dubai-religion-binary.csv\")"
   ]
  },
  {
   "cell_type": "code",
   "execution_count": 35,
   "metadata": {},
   "outputs": [],
   "source": [
    "comdf = twdf.set_index('tweeterid').join(poldf.set_index('tweeterid'))"
   ]
  },
  {
   "cell_type": "code",
   "execution_count": 45,
   "metadata": {},
   "outputs": [],
   "source": [
    "comdf = comdf.dropna(subset = ['tweet'])\n",
    "comdf = comdf.dropna(subset = ['politics'])\n",
    "selfText  = comdf.tweet\n",
    "labels = comdf.politics\n",
    "trainPct = 0.7"
   ]
  },
  {
   "cell_type": "code",
   "execution_count": 46,
   "metadata": {},
   "outputs": [],
   "source": [
    "X_train, X_test, y_train, y_test = train_test_split(selfText, labels, test_size = 1.0 - trainPct)"
   ]
  },
  {
   "cell_type": "code",
   "execution_count": 47,
   "metadata": {},
   "outputs": [],
   "source": [
    "from sklearn.pipeline import Pipeline\n",
    "from sklearn.feature_extraction.text import CountVectorizer\n",
    "from sklearn.feature_extraction.text import TfidfTransformer\n",
    "from nltk.corpus import stopwords\n",
    "import sklearn.metrics as sm"
   ]
  },
  {
   "cell_type": "code",
   "execution_count": 50,
   "metadata": {},
   "outputs": [
    {
     "name": "stderr",
     "output_type": "stream",
     "text": [
      "C:\\Users\\curtisd2\\AppData\\Local\\Continuum\\anaconda3\\lib\\site-packages\\sklearn\\linear_model\\stochastic_gradient.py:128: FutureWarning: max_iter and tol parameters have been added in <class 'sklearn.linear_model.stochastic_gradient.SGDClassifier'> in 0.19. If both are left unset, they default to max_iter=5 and tol=None. If tol is not None, max_iter defaults to max_iter=1000. From 0.21, default max_iter will be 1000, and default tol will be 1e-3.\n",
      "  \"and default tol will be 1e-3.\" % type(self), FutureWarning)\n"
     ]
    },
    {
     "name": "stdout",
     "output_type": "stream",
     "text": [
      "Accuracy:  0.7976521158889527\n",
      "F1 score:  0.18734224548938955\n",
      "AUC score:  0.5516373364241169\n"
     ]
    }
   ],
   "source": [
    "#Model using Support Vector Machines classifier, no text preprocess\n",
    "\n",
    "from sklearn.linear_model import SGDClassifier\n",
    "text_clf = Pipeline([('vect',CountVectorizer()), ('tfidf',TfidfTransformer()), ('clf', SGDClassifier())])\n",
    "text_clf = text_clf.fit(X_train, y_train)\n",
    "predicted = text_clf.predict(X_test)\n",
    "print(\"Accuracy: \",text_clf.score(X_test, y_test))\n",
    "print(\"F1 score: \",sm.f1_score(y_test,predicted))\n",
    "print(\"AUC score: \",sm.roc_auc_score(y_test,predicted))"
   ]
  },
  {
   "cell_type": "code",
   "execution_count": 51,
   "metadata": {},
   "outputs": [
    {
     "name": "stderr",
     "output_type": "stream",
     "text": [
      "C:\\Users\\curtisd2\\AppData\\Local\\Continuum\\anaconda3\\lib\\site-packages\\sklearn\\linear_model\\stochastic_gradient.py:128: FutureWarning: max_iter and tol parameters have been added in <class 'sklearn.linear_model.stochastic_gradient.SGDClassifier'> in 0.19. If both are left unset, they default to max_iter=5 and tol=None. If tol is not None, max_iter defaults to max_iter=1000. From 0.21, default max_iter will be 1000, and default tol will be 1e-3.\n",
      "  \"and default tol will be 1e-3.\" % type(self), FutureWarning)\n"
     ]
    },
    {
     "name": "stdout",
     "output_type": "stream",
     "text": [
      "Accuracy:  0.8003289831008209\n",
      "F1 score:  0.20711116588612272\n",
      "AUC score:  0.5576925618296578\n"
     ]
    }
   ],
   "source": [
    "#Model using Support Vector Machines classifier, stop words removed\n",
    "\n",
    "from sklearn.linear_model import SGDClassifier\n",
    "text_clf = Pipeline([('vect',CountVectorizer(stop_words='english')), ('tfidf',TfidfTransformer()), ('clf', SGDClassifier())])\n",
    "text_clf = text_clf.fit(X_train, y_train)\n",
    "predicted = text_clf.predict(X_test)\n",
    "print(\"Accuracy: \",text_clf.score(X_test, y_test))\n",
    "print(\"F1 score: \",sm.f1_score(y_test,predicted))\n",
    "print(\"AUC score: \",sm.roc_auc_score(y_test,predicted))"
   ]
  },
  {
   "cell_type": "code",
   "execution_count": 52,
   "metadata": {},
   "outputs": [
    {
     "name": "stderr",
     "output_type": "stream",
     "text": [
      "C:\\Users\\curtisd2\\AppData\\Local\\Continuum\\anaconda3\\lib\\site-packages\\sklearn\\linear_model\\stochastic_gradient.py:128: FutureWarning: max_iter and tol parameters have been added in <class 'sklearn.linear_model.stochastic_gradient.SGDClassifier'> in 0.19. If both are left unset, they default to max_iter=5 and tol=None. If tol is not None, max_iter defaults to max_iter=1000. From 0.21, default max_iter will be 1000, and default tol will be 1e-3.\n",
      "  \"and default tol will be 1e-3.\" % type(self), FutureWarning)\n"
     ]
    },
    {
     "name": "stdout",
     "output_type": "stream",
     "text": [
      "Accuracy:  0.8010505733927158\n",
      "F1 score:  0.21247581313922415\n",
      "AUC score:  0.5593529265704016\n"
     ]
    }
   ],
   "source": [
    "#Model using Support Vector Machines classifier, stemmed\n",
    "\n",
    "import sklearn.metrics as sm\n",
    "from nltk.stem.snowball import SnowballStemmer\n",
    "stemmer = SnowballStemmer(\"english\", ignore_stopwords=True)\n",
    "\n",
    "class StemmedCountVectorizer(CountVectorizer):\n",
    "    def build_analyzer(self):\n",
    "        analyzer = super(StemmedCountVectorizer, self).build_analyzer()\n",
    "        return lambda doc: ([stemmer.stem(w) for w in analyzer(doc)])\n",
    "\n",
    "stemmed_count_vect = StemmedCountVectorizer(stop_words='english')\n",
    "\n",
    "text_svm_stemmed = Pipeline([('vect', stemmed_count_vect), ('tfidf', TfidfTransformer()),\n",
    "                             ('svm_clf', SGDClassifier())])\n",
    "text_svm_stemmed = text_svm_stemmed.fit(X_train, y_train)\n",
    "predicted_svm_stemmed = text_svm_stemmed.predict(X_test)\n",
    "print(\"Accuracy: \", text_svm_stemmed.score(X_test, y_test))\n",
    "print(\"F1 score: \", sm.f1_score(y_test,predicted_svm_stemmed))\n",
    "print(\"AUC score: \", sm.roc_auc_score(y_test,predicted_svm_stemmed))"
   ]
  },
  {
   "cell_type": "code",
   "execution_count": 66,
   "metadata": {},
   "outputs": [
    {
     "name": "stdout",
     "output_type": "stream",
     "text": [
      "Accuracy:  0.8459133160565478\n",
      "F1 score:  0.4842755862570442\n",
      "AUC score:  0.6598039160172051\n"
     ]
    }
   ],
   "source": [
    "#Model using Naive Bayes classifier, stemmed\n",
    "from sklearn.naive_bayes import MultinomialNB\n",
    "import sklearn.metrics as sm\n",
    "from nltk.stem.snowball import SnowballStemmer\n",
    "stemmer = SnowballStemmer(\"english\", ignore_stopwords=True)\n",
    "\n",
    "class StemmedCountVectorizer(CountVectorizer):\n",
    "    def build_analyzer(self):\n",
    "        analyzer = super(StemmedCountVectorizer, self).build_analyzer()\n",
    "        return lambda doc: ([stemmer.stem(w) for w in analyzer(doc)])\n",
    "\n",
    "stemmed_count_vect = StemmedCountVectorizer(stop_words='english')\n",
    "\n",
    "text_mnb_stemmed = Pipeline([('vect', stemmed_count_vect), ('tfidf', TfidfTransformer()),\n",
    "                             ('clf', MultinomialNB())])\n",
    "text_mnb_stemmed = text_mnb_stemmed.fit(X_train, y_train)\n",
    "predicted_mnb_stemmed = text_mnb_stemmed.predict(X_test)\n",
    "print(\"Accuracy: \", text_mnb_stemmed.score(X_test, y_test))\n",
    "print(\"F1 score: \", sm.f1_score(y_test,predicted_mnb_stemmed))\n",
    "print(\"AUC score: \", sm.roc_auc_score(y_test,predicted_mnb_stemmed))"
   ]
  },
  {
   "cell_type": "code",
   "execution_count": 67,
   "metadata": {},
   "outputs": [
    {
     "name": "stdout",
     "output_type": "stream",
     "text": [
      "Accuracy:  0.8613305193898294\n",
      "F1 score:  0.5952898550724638\n",
      "AUC score:  0.7163180718959544\n"
     ]
    }
   ],
   "source": [
    "#Model using Random Forest classifier, stemmed\n",
    "from sklearn.ensemble import RandomForestClassifier\n",
    "import sklearn.metrics as sm\n",
    "from nltk.stem.snowball import SnowballStemmer\n",
    "stemmer = SnowballStemmer(\"english\", ignore_stopwords=True)\n",
    "\n",
    "class StemmedCountVectorizer(CountVectorizer):\n",
    "    def build_analyzer(self):\n",
    "        analyzer = super(StemmedCountVectorizer, self).build_analyzer()\n",
    "        return lambda doc: ([stemmer.stem(w) for w in analyzer(doc)])\n",
    "\n",
    "stemmed_count_vect = StemmedCountVectorizer(stop_words='english')\n",
    "\n",
    "text_rf_stemmed = Pipeline([('vect', stemmed_count_vect), ('tfidf', TfidfTransformer()),\n",
    "                             ('clf', RandomForestClassifier(n_estimators=10))])\n",
    "text_rf_stemmed = text_rf_stemmed.fit(X_train, y_train)\n",
    "predicted_rf_stemmed = text_rf_stemmed.predict(X_test)\n",
    "print(\"Accuracy: \", text_rf_stemmed.score(X_test, y_test))\n",
    "print(\"F1 score: \", sm.f1_score(y_test,predicted_rf_stemmed))\n",
    "print(\"AUC score: \", sm.roc_auc_score(y_test,predicted_rf_stemmed))"
   ]
  },
  {
   "cell_type": "code",
   "execution_count": 68,
   "metadata": {},
   "outputs": [
    {
     "name": "stdout",
     "output_type": "stream",
     "text": [
      "Accuracy:  0.809344982231809\n",
      "F1 score:  0.2996636835204925\n",
      "AUC score:  0.5866231127532767\n"
     ]
    }
   ],
   "source": [
    "#Model using AdaBoost classifier, stemmed\n",
    "from sklearn.ensemble import AdaBoostClassifier\n",
    "import sklearn.metrics as sm\n",
    "from nltk.stem.snowball import SnowballStemmer\n",
    "stemmer = SnowballStemmer(\"english\", ignore_stopwords=True)\n",
    "\n",
    "class StemmedCountVectorizer(CountVectorizer):\n",
    "    def build_analyzer(self):\n",
    "        analyzer = super(StemmedCountVectorizer, self).build_analyzer()\n",
    "        return lambda doc: ([stemmer.stem(w) for w in analyzer(doc)])\n",
    "\n",
    "stemmed_count_vect = StemmedCountVectorizer(stop_words='english')\n",
    "\n",
    "text_ada_stemmed = Pipeline([('vect', stemmed_count_vect), ('tfidf', TfidfTransformer()),\n",
    "                             ('clf', AdaBoostClassifier(n_estimators=100))])\n",
    "text_ada_stemmed = text_ada_stemmed.fit(X_train, y_train)\n",
    "predicted_ada_stemmed = text_ada_stemmed.predict(X_test)\n",
    "print(\"Accuracy: \", text_ada_stemmed.score(X_test, y_test))\n",
    "print(\"F1 score: \", sm.f1_score(y_test,predicted_ada_stemmed))\n",
    "print(\"AUC score: \", sm.roc_auc_score(y_test,predicted_ada_stemmed))"
   ]
  },
  {
   "cell_type": "code",
   "execution_count": null,
   "metadata": {},
   "outputs": [],
   "source": []
  }
 ],
 "metadata": {
  "kernelspec": {
   "display_name": "Python 3",
   "language": "python",
   "name": "python3"
  },
  "language_info": {
   "codemirror_mode": {
    "name": "ipython",
    "version": 3
   },
   "file_extension": ".py",
   "mimetype": "text/x-python",
   "name": "python",
   "nbconvert_exporter": "python",
   "pygments_lexer": "ipython3",
   "version": "3.6.5"
  }
 },
 "nbformat": 4,
 "nbformat_minor": 2
}
